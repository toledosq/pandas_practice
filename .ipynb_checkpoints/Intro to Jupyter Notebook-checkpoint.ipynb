{
 "cells": [
  {
   "cell_type": "markdown",
   "id": "065dc2a2",
   "metadata": {},
   "source": [
    "## A Markdown Cell allows text, images, embedded video, etc."
   ]
  },
  {
   "cell_type": "markdown",
   "id": "0d3a6fb7",
   "metadata": {},
   "source": [
    "# Headings are done with markdown"
   ]
  },
  {
   "cell_type": "markdown",
   "id": "c138712b",
   "metadata": {},
   "source": [
    "## This is a subheader"
   ]
  },
  {
   "cell_type": "markdown",
   "id": "2f2f2d85",
   "metadata": {},
   "source": [
    "### What about this?"
   ]
  },
  {
   "cell_type": "code",
   "execution_count": 1,
   "id": "5e946a91",
   "metadata": {},
   "outputs": [],
   "source": [
    "x = 5\n",
    "y = x - 2\n",
    "z = [x, y]"
   ]
  },
  {
   "cell_type": "code",
   "execution_count": 2,
   "id": "655a45e8",
   "metadata": {},
   "outputs": [
    {
     "data": {
      "text/plain": [
       "[5, 3]"
      ]
     },
     "execution_count": 2,
     "metadata": {},
     "output_type": "execute_result"
    }
   ],
   "source": [
    "z"
   ]
  },
  {
   "cell_type": "code",
   "execution_count": 3,
   "id": "a2ded7d4",
   "metadata": {},
   "outputs": [],
   "source": [
    "foo = z[0]\n",
    "bar = z[1]\n",
    "foobar = foo + bar"
   ]
  },
  {
   "cell_type": "code",
   "execution_count": 4,
   "id": "a33a23fa",
   "metadata": {},
   "outputs": [
    {
     "data": {
      "text/plain": [
       "8"
      ]
     },
     "execution_count": 4,
     "metadata": {},
     "output_type": "execute_result"
    }
   ],
   "source": [
    "foobar"
   ]
  },
  {
   "cell_type": "code",
   "execution_count": 5,
   "id": "8dbcf026",
   "metadata": {},
   "outputs": [
    {
     "data": {
      "text/plain": [
       "6"
      ]
     },
     "execution_count": 5,
     "metadata": {},
     "output_type": "execute_result"
    }
   ],
   "source": [
    "# jupyter will only display the last evaluated line in a cell\n",
    "1 + 1\n",
    "2 + 2\n",
    "3 + 3"
   ]
  },
  {
   "cell_type": "code",
   "execution_count": null,
   "id": "777f0399",
   "metadata": {},
   "outputs": [],
   "source": []
  }
 ],
 "metadata": {
  "kernelspec": {
   "display_name": "Python 3 (ipykernel)",
   "language": "python",
   "name": "python3"
  },
  "language_info": {
   "codemirror_mode": {
    "name": "ipython",
    "version": 3
   },
   "file_extension": ".py",
   "mimetype": "text/x-python",
   "name": "python",
   "nbconvert_exporter": "python",
   "pygments_lexer": "ipython3",
   "version": "3.10.4"
  }
 },
 "nbformat": 4,
 "nbformat_minor": 5
}
