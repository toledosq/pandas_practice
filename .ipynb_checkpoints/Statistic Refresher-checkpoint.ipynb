{
 "cells": [
  {
   "cell_type": "markdown",
   "id": "723535b0",
   "metadata": {},
   "source": []
  },
  {
   "cell_type": "markdown",
   "id": "dc5e2d24",
   "metadata": {},
   "source": [
    "# Types of Variables\n",
    "\n",
    "## Categorical\n",
    "\n",
    "> **Nominal**\n",
    ">\n",
    "> Unordered, unranked categories. (IE Gender, Color, Location)\n",
    "\n",
    "> **Ordinal**\n",
    ">\n",
    "> Ordered, ranked categories (IE Size, Grades, Leaderboard)\n",
    "\n",
    "## Numeric\n",
    "\n",
    "> **Discrete**\n",
    ">\n",
    "> Discrete numeric variables are for our purposes, **Integers**. (IE 4 businesses, 538 people)\n",
    "\n",
    "> **Continuous**\n",
    ">\n",
    "> Can be infinitely divided, **floats**. (IE Age, Height)\n",
    "\n"
   ]
  },
  {
   "cell_type": "markdown",
   "id": "3ee7d14b",
   "metadata": {},
   "source": [
    "# Statistical Regression\n",
    "\n",
    ">*In statistics, regression analysis is a statistical process for estimating the relationships among variables. ... The focus is on the relationship between a dependent variable and one for more independent variables.* **-Wikipedia**\n",
    "\n",
    "## Two types of regression we will look at:\n",
    "\n",
    "### Linear\n",
    "> **Simple Linear Regression**\n",
    ">\n",
    "> &nbsp;&nbsp;&nbsp;&nbsp; $y = b_{0} + b_{1} * x_{1}$\n",
    ">\n",
    "> **What is it?**<br>A Simple Linear Regression is represented by a sloped line on an X/Y axis\n",
    "> \n",
    "> **x** = Independent Variable (IV)  \n",
    "> **y** = Dependent Variable (DV)  \n",
    "> **b0** = Constant Term  \n",
    "> **b1** = Coefficient. (Sort of like a multiplier, or weight, that affects the regression)  \n",
    "\n",
    "> **Multiple Linear Regression** \n",
    ">\n",
    "> &nbsp;&nbsp;&nbsp;&nbsp; $ y = b_{0} + b_{1}*x_{1} + b_{2}*x_{2} + \\ldots + b_{n}*x_{n} $\n",
    "> \n",
    "> **What is it?**<br> A Multiple Linear Regression is the same thing, but with many different variables affecting the outcome (the DV)\n",
    "\n",
    ">> **Example:** Let DV = a students grade. In this case, our IVs may include factors such as amount of sleep had the night before, number of hours spent studying, lectures attended, etc. Our coefficients would be how much weight each of those IVs carry towards the outcome. Our constant would be the \n",
    "\n",
    "\n",
    "### Logistic\n",
    "> **Simple Logistic Regression**\n",
    ">\n",
    "> Unimportant apparently... according to this course I'm taking.\n",
    "\n",
    "> **Multiple Logistic Regression**\n",
    ">\n",
    "> If someone says Logistic Regression, assume they're referring to this."
   ]
  },
  {
   "cell_type": "code",
   "execution_count": null,
   "id": "3b379214",
   "metadata": {},
   "outputs": [],
   "source": []
  }
 ],
 "metadata": {
  "kernelspec": {
   "display_name": "Python 3 (ipykernel)",
   "language": "python",
   "name": "python3"
  },
  "language_info": {
   "codemirror_mode": {
    "name": "ipython",
    "version": 3
   },
   "file_extension": ".py",
   "mimetype": "text/x-python",
   "name": "python",
   "nbconvert_exporter": "python",
   "pygments_lexer": "ipython3",
   "version": "3.10.4"
  }
 },
 "nbformat": 4,
 "nbformat_minor": 5
}
