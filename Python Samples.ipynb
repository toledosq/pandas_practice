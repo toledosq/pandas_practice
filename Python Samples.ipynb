{
 "cells": [
  {
   "cell_type": "markdown",
   "id": "f3eb54ec",
   "metadata": {},
   "source": [
    "# String Methods"
   ]
  },
  {
   "cell_type": "code",
   "execution_count": 1,
   "id": "914ee339",
   "metadata": {},
   "outputs": [],
   "source": [
    "profession = \"automation engineer\""
   ]
  },
  {
   "cell_type": "code",
   "execution_count": 2,
   "id": "071d5951",
   "metadata": {},
   "outputs": [
    {
     "data": {
      "text/plain": [
       "'AUTOMATION ENGINEER'"
      ]
     },
     "execution_count": 2,
     "metadata": {},
     "output_type": "execute_result"
    }
   ],
   "source": [
    "profession.upper()"
   ]
  },
  {
   "cell_type": "code",
   "execution_count": 3,
   "id": "963c7e96",
   "metadata": {},
   "outputs": [
    {
     "data": {
      "text/plain": [
       "'automation engineer'"
      ]
     },
     "execution_count": 3,
     "metadata": {},
     "output_type": "execute_result"
    }
   ],
   "source": [
    "profession.lower()"
   ]
  },
  {
   "cell_type": "code",
   "execution_count": 4,
   "id": "8ae329f5",
   "metadata": {},
   "outputs": [
    {
     "data": {
      "text/plain": [
       "'Automation engineer'"
      ]
     },
     "execution_count": 4,
     "metadata": {},
     "output_type": "execute_result"
    }
   ],
   "source": [
    "profession.capitalize()"
   ]
  },
  {
   "cell_type": "code",
   "execution_count": 5,
   "id": "e022c8f9",
   "metadata": {},
   "outputs": [
    {
     "data": {
      "text/plain": [
       "'Automation Engineer'"
      ]
     },
     "execution_count": 5,
     "metadata": {},
     "output_type": "execute_result"
    }
   ],
   "source": [
    "profession.title()"
   ]
  },
  {
   "cell_type": "markdown",
   "id": "ace60115",
   "metadata": {},
   "source": [
    "## Strip methods"
   ]
  },
  {
   "cell_type": "code",
   "execution_count": 6,
   "id": "12716d61",
   "metadata": {},
   "outputs": [],
   "source": [
    "profession = \"    automation engineer    \""
   ]
  },
  {
   "cell_type": "code",
   "execution_count": 7,
   "id": "37b2225e",
   "metadata": {},
   "outputs": [
    {
     "data": {
      "text/plain": [
       "'automation engineer    '"
      ]
     },
     "execution_count": 7,
     "metadata": {},
     "output_type": "execute_result"
    }
   ],
   "source": [
    "profession.lstrip()"
   ]
  },
  {
   "cell_type": "code",
   "execution_count": 8,
   "id": "c04d1575",
   "metadata": {},
   "outputs": [
    {
     "data": {
      "text/plain": [
       "'    automation engineer'"
      ]
     },
     "execution_count": 8,
     "metadata": {},
     "output_type": "execute_result"
    }
   ],
   "source": [
    "profession.rstrip()"
   ]
  },
  {
   "cell_type": "code",
   "execution_count": 9,
   "id": "a508a845",
   "metadata": {},
   "outputs": [
    {
     "data": {
      "text/plain": [
       "'    automation rnginrrr    '"
      ]
     },
     "execution_count": 9,
     "metadata": {},
     "output_type": "execute_result"
    }
   ],
   "source": [
    "profession.replace(\"e\", \"r\")"
   ]
  },
  {
   "cell_type": "code",
   "execution_count": 10,
   "id": "b1916ef8",
   "metadata": {},
   "outputs": [
    {
     "data": {
      "text/plain": [
       "'automation |*ngin|*|*r'"
      ]
     },
     "execution_count": 10,
     "metadata": {},
     "output_type": "execute_result"
    }
   ],
   "source": [
    "profession.strip().replace(\"e\", \"|*\")"
   ]
  },
  {
   "cell_type": "markdown",
   "id": "b76a41f2",
   "metadata": {},
   "source": [
    "## String Searching"
   ]
  },
  {
   "cell_type": "code",
   "execution_count": 11,
   "id": "a82264bc",
   "metadata": {},
   "outputs": [],
   "source": [
    "animal = \"Velociraptor\""
   ]
  },
  {
   "cell_type": "code",
   "execution_count": 12,
   "id": "5389a6cf",
   "metadata": {},
   "outputs": [
    {
     "data": {
      "text/plain": [
       "False"
      ]
     },
     "execution_count": 12,
     "metadata": {},
     "output_type": "execute_result"
    }
   ],
   "source": [
    "animal.startswith(\"vel\")"
   ]
  },
  {
   "cell_type": "code",
   "execution_count": 13,
   "id": "5abd5a60",
   "metadata": {},
   "outputs": [
    {
     "data": {
      "text/plain": [
       "True"
      ]
     },
     "execution_count": 13,
     "metadata": {},
     "output_type": "execute_result"
    }
   ],
   "source": [
    "animal.startswith(\"Vel\")"
   ]
  },
  {
   "cell_type": "code",
   "execution_count": 14,
   "id": "37142b17",
   "metadata": {},
   "outputs": [
    {
     "data": {
      "text/plain": [
       "True"
      ]
     },
     "execution_count": 14,
     "metadata": {},
     "output_type": "execute_result"
    }
   ],
   "source": [
    "animal.lower().startswith(\"vel\")"
   ]
  },
  {
   "cell_type": "code",
   "execution_count": 15,
   "id": "c8423ff1",
   "metadata": {},
   "outputs": [
    {
     "data": {
      "text/plain": [
       "True"
      ]
     },
     "execution_count": 15,
     "metadata": {},
     "output_type": "execute_result"
    }
   ],
   "source": [
    "animal.endswith(\"raptor\")"
   ]
  },
  {
   "cell_type": "code",
   "execution_count": 16,
   "id": "eeef6e17",
   "metadata": {},
   "outputs": [
    {
     "data": {
      "text/plain": [
       "6"
      ]
     },
     "execution_count": 16,
     "metadata": {},
     "output_type": "execute_result"
    }
   ],
   "source": [
    "animal.rfind(\"raptor\")"
   ]
  },
  {
   "cell_type": "code",
   "execution_count": 17,
   "id": "33f8b7bc",
   "metadata": {},
   "outputs": [
    {
     "data": {
      "text/plain": [
       "6"
      ]
     },
     "execution_count": 17,
     "metadata": {},
     "output_type": "execute_result"
    }
   ],
   "source": [
    "animal.find(\"raptor\")"
   ]
  },
  {
   "cell_type": "code",
   "execution_count": 18,
   "id": "e4b09e26",
   "metadata": {},
   "outputs": [
    {
     "data": {
      "text/plain": [
       "True"
      ]
     },
     "execution_count": 18,
     "metadata": {},
     "output_type": "execute_result"
    }
   ],
   "source": [
    "\"raptor\" in animal"
   ]
  },
  {
   "cell_type": "code",
   "execution_count": 19,
   "id": "d078d8ae",
   "metadata": {},
   "outputs": [],
   "source": [
    "pa = \"Sharon, James, Ron, Blake\""
   ]
  },
  {
   "cell_type": "code",
   "execution_count": 20,
   "id": "ddd31585",
   "metadata": {},
   "outputs": [],
   "source": [
    "is_attending = \"Blake\" in pa"
   ]
  },
  {
   "cell_type": "code",
   "execution_count": 21,
   "id": "01ba9940",
   "metadata": {},
   "outputs": [
    {
     "data": {
      "text/plain": [
       "True"
      ]
     },
     "execution_count": 21,
     "metadata": {},
     "output_type": "execute_result"
    }
   ],
   "source": [
    "is_attending"
   ]
  },
  {
   "cell_type": "code",
   "execution_count": 22,
   "id": "46a37c0d",
   "metadata": {},
   "outputs": [],
   "source": [
    "is_attending = \"Ron\" if \"Ron\" in pa else \"Blake\""
   ]
  },
  {
   "cell_type": "markdown",
   "id": "b5351ca5",
   "metadata": {},
   "source": [
    "# Lists"
   ]
  },
  {
   "cell_type": "markdown",
   "id": "ab13ddf2",
   "metadata": {},
   "source": [
    "### Removing values from list within loop (incorrect)"
   ]
  },
  {
   "cell_type": "code",
   "execution_count": 32,
   "id": "280a8560",
   "metadata": {},
   "outputs": [
    {
     "data": {
      "text/plain": [
       "[1, 2, 1, 1, 2, 2, 3, 4]"
      ]
     },
     "execution_count": 32,
     "metadata": {},
     "output_type": "execute_result"
    }
   ],
   "source": [
    "myList = [1, 2, 1, 1, 2, 2, 3, 4]\n",
    "myList"
   ]
  },
  {
   "cell_type": "code",
   "execution_count": 33,
   "id": "c0767e90",
   "metadata": {},
   "outputs": [
    {
     "data": {
      "text/plain": [
       "[2, 1, 2, 2, 3, 4]"
      ]
     },
     "execution_count": 33,
     "metadata": {},
     "output_type": "execute_result"
    }
   ],
   "source": [
    "for value in myList:\n",
    "    if value == 1:\n",
    "        myList.remove(value)\n",
    "myList"
   ]
  },
  {
   "cell_type": "markdown",
   "id": "76e1748c",
   "metadata": {},
   "source": [
    "### Popping values from list within loop (incorrect)"
   ]
  },
  {
   "cell_type": "code",
   "execution_count": 34,
   "id": "17687046",
   "metadata": {},
   "outputs": [
    {
     "data": {
      "text/plain": [
       "[1, 2, 1, 1, 2, 2, 3, 4]"
      ]
     },
     "execution_count": 34,
     "metadata": {},
     "output_type": "execute_result"
    }
   ],
   "source": [
    "myList = [1, 2, 1, 1, 2, 2, 3, 4]\n",
    "myList"
   ]
  },
  {
   "cell_type": "code",
   "execution_count": 35,
   "id": "1652c6ec",
   "metadata": {},
   "outputs": [
    {
     "data": {
      "text/plain": [
       "[1, 1, 2, 2, 3, 4]"
      ]
     },
     "execution_count": 35,
     "metadata": {},
     "output_type": "execute_result"
    }
   ],
   "source": [
    "for value in myList:\n",
    "    if value == 1:\n",
    "        myList.pop(value)\n",
    "myList"
   ]
  },
  {
   "cell_type": "markdown",
   "id": "ef8e9e29",
   "metadata": {},
   "source": [
    "### Creating a new list to hold values (correct)"
   ]
  },
  {
   "cell_type": "code",
   "execution_count": 36,
   "id": "fcda3cfc",
   "metadata": {},
   "outputs": [
    {
     "data": {
      "text/plain": [
       "[1, 2, 1, 1, 2, 2, 3, 4]"
      ]
     },
     "execution_count": 36,
     "metadata": {},
     "output_type": "execute_result"
    }
   ],
   "source": [
    "myList = [1, 2, 1, 1, 2, 2, 3, 4]\n",
    "myList"
   ]
  },
  {
   "cell_type": "code",
   "execution_count": 37,
   "id": "a1c7b581",
   "metadata": {},
   "outputs": [
    {
     "data": {
      "text/plain": [
       "[2, 2, 2, 3, 4]"
      ]
     },
     "execution_count": 37,
     "metadata": {},
     "output_type": "execute_result"
    }
   ],
   "source": [
    "newList = []\n",
    "for value in myList:\n",
    "    if value != 1:\n",
    "        newList.append(value)\n",
    "newList"
   ]
  },
  {
   "cell_type": "markdown",
   "id": "c3a38cec",
   "metadata": {},
   "source": [
    "### Creating a new list using list comprehension (correct)"
   ]
  },
  {
   "cell_type": "code",
   "execution_count": 38,
   "id": "7d62bfa5",
   "metadata": {},
   "outputs": [
    {
     "data": {
      "text/plain": [
       "[2, 2, 2, 3, 4]"
      ]
     },
     "execution_count": 38,
     "metadata": {},
     "output_type": "execute_result"
    }
   ],
   "source": [
    "newList = [value for value in myList if value != 1]\n",
    "newList"
   ]
  }
 ],
 "metadata": {
  "kernelspec": {
   "display_name": "Python 3 (ipykernel)",
   "language": "python",
   "name": "python3"
  },
  "language_info": {
   "codemirror_mode": {
    "name": "ipython",
    "version": 3
   },
   "file_extension": ".py",
   "mimetype": "text/x-python",
   "name": "python",
   "nbconvert_exporter": "python",
   "pygments_lexer": "ipython3",
   "version": "3.10.4"
  }
 },
 "nbformat": 4,
 "nbformat_minor": 5
}
